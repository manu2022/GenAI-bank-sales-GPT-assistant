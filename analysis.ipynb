{
 "cells": [
  {
   "cell_type": "markdown",
   "metadata": {},
   "source": [
    "# Generative AI Assistant"
   ]
  },
  {
   "cell_type": "markdown",
   "metadata": {},
   "source": [
    "import generic libraries"
   ]
  },
  {
   "cell_type": "code",
   "execution_count": 4,
   "metadata": {},
   "outputs": [],
   "source": [
    "import configparser\n",
    "\n",
    "import warnings\n",
    "\n",
    "warnings.filterwarnings(\"ignore\", category=DeprecationWarning)\n",
    "warnings.filterwarnings(\"ignore\", category=UserWarning)\n",
    "# Pinecone instance\n",
    "from pinecone import Pinecone, PodSpec\n",
    "\n",
    "\n",
    "# Document Loader\n",
    "from langchain.document_loaders import PyPDFLoader\n",
    "from langchain.text_splitter import RecursiveCharacterTextSplitter\n",
    "from langchain.embeddings import OpenAIEmbeddings\n",
    "\n",
    "#Langchain app\n",
    "from langchain.chat_models import AzureChatOpenAI\n",
    "from langchain.chains.conversation.memory import ConversationBufferWindowMemory\n",
    "from langchain.chains import RetrievalQA\n",
    "from langchain.agents import Tool\n"
   ]
  },
  {
   "cell_type": "markdown",
   "metadata": {},
   "source": [
    "initialize credentials"
   ]
  },
  {
   "cell_type": "code",
   "execution_count": 5,
   "metadata": {},
   "outputs": [
    {
     "data": {
      "text/plain": [
       "['config.ini']"
      ]
     },
     "execution_count": 5,
     "metadata": {},
     "output_type": "execute_result"
    }
   ],
   "source": [
    "config = configparser.ConfigParser()\n",
    "config.read('config.ini')"
   ]
  },
  {
   "cell_type": "code",
   "execution_count": 6,
   "metadata": {},
   "outputs": [],
   "source": [
    "OPENAI_API_KEY = config.get('Openai', 'deployment')\n",
    "PINECONE_API_KEY = config.get('Pinecone', 'api_key')\n",
    "PINECONE_API_ENV = config.get('Pinecone', 'environment')"
   ]
  },
  {
   "cell_type": "markdown",
   "metadata": {},
   "source": [
    "## Set up index in Pinecone"
   ]
  },
  {
   "cell_type": "code",
   "execution_count": 7,
   "metadata": {},
   "outputs": [
    {
     "data": {
      "text/plain": [
       "{'dimension': 1536,\n",
       " 'index_fullness': 0.00051,\n",
       " 'namespaces': {'': {'vector_count': 51}},\n",
       " 'total_vector_count': 51}"
      ]
     },
     "execution_count": 7,
     "metadata": {},
     "output_type": "execute_result"
    }
   ],
   "source": [
    "pc = Pinecone(api_key=PINECONE_API_KEY)\n",
    "spec = PodSpec(environment=PINECONE_API_ENV)\n",
    "\n",
    "index_name = \"bank-index\"\n",
    "if index_name not in pc.list_indexes().names():\n",
    "    pc.create_index(\n",
    "        index_name,\n",
    "        dimension=1536, \n",
    "        metric='cosine',\n",
    "        spec=spec\n",
    "    )\n",
    "\n",
    "index = pc.Index(index_name)\n",
    "index.describe_index_stats()"
   ]
  },
  {
   "cell_type": "markdown",
   "metadata": {},
   "source": [
    "## Document Loader --> Load data (PDFs, webscrapping, audio files)"
   ]
  },
  {
   "cell_type": "markdown",
   "metadata": {},
   "source": [
    "### PDF Loader"
   ]
  },
  {
   "cell_type": "markdown",
   "metadata": {},
   "source": [
    "example on how to load a simple document"
   ]
  },
  {
   "cell_type": "code",
   "execution_count": 72,
   "metadata": {},
   "outputs": [],
   "source": [
    "loader = PyPDFLoader(\"FAQ _ Nordea.pdf\")\n",
    "data = loader.load()"
   ]
  },
  {
   "cell_type": "code",
   "execution_count": 73,
   "metadata": {},
   "outputs": [
    {
     "name": "stdout",
     "output_type": "stream",
     "text": [
      "There are 5 pages in the pdf\n"
     ]
    }
   ],
   "source": [
    "print (f'There are {len(data)} pages in the pdf')"
   ]
  },
  {
   "cell_type": "code",
   "execution_count": 40,
   "metadata": {},
   "outputs": [
    {
     "name": "stdout",
     "output_type": "stream",
     "text": [
      "Now there are 17 documents\n"
     ]
    }
   ],
   "source": [
    "text_splitter = RecursiveCharacterTextSplitter(chunk_size=500, chunk_overlap=50)\n",
    "documents = text_splitter.split_documentssplit(data)\n",
    "print(f\"Now there are {len(documents)} documents\")"
   ]
  },
  {
   "cell_type": "code",
   "execution_count": 8,
   "metadata": {},
   "outputs": [],
   "source": [
    "embeddings_client = OpenAIEmbeddings(api_key=OPENAI_API_KEY)"
   ]
  },
  {
   "cell_type": "code",
   "execution_count": 42,
   "metadata": {},
   "outputs": [],
   "source": [
    "embeddings = []\n",
    "for doc in documents:\n",
    "    embeddings.append(embeddings_client.embed_query(doc.page_content))"
   ]
  },
  {
   "cell_type": "code",
   "execution_count": 43,
   "metadata": {},
   "outputs": [
    {
     "data": {
      "text/plain": [
       "17"
      ]
     },
     "execution_count": 43,
     "metadata": {},
     "output_type": "execute_result"
    }
   ],
   "source": [
    "len(embeddings)"
   ]
  },
  {
   "cell_type": "markdown",
   "metadata": {},
   "source": [
    "### Web scrapper"
   ]
  },
  {
   "cell_type": "markdown",
   "metadata": {},
   "source": [
    "scrapping products from a dummy bank webpage"
   ]
  },
  {
   "cell_type": "code",
   "execution_count": 71,
   "metadata": {},
   "outputs": [
    {
     "name": "stdout",
     "output_type": "stream",
     "text": [
      "10117\n"
     ]
    }
   ],
   "source": [
    "import requests\n",
    "from bs4 import BeautifulSoup\n",
    "\n",
    "url = \"https://www.capitalone.com/bank/money-management/banking-basics/banking-products-and-services/\"\n",
    "\n",
    "response = requests.get(url)\n",
    "\n",
    "soup = BeautifulSoup(response.content, \"html.parser\")\n",
    "\n",
    "target_div = soup.find(\"div\", class_=\"grv-shr-lib-col--sm-4 article-body-content\")\n",
    "\n",
    "all_text = target_div.get_text()\n",
    "\n",
    "print(len(all_text))\n",
    " "
   ]
  },
  {
   "cell_type": "code",
   "execution_count": 79,
   "metadata": {},
   "outputs": [
    {
     "name": "stdout",
     "output_type": "stream",
     "text": [
      "Now there are 51 documents\n"
     ]
    }
   ],
   "source": [
    "text_splitter = RecursiveCharacterTextSplitter(chunk_size=300, chunk_overlap=50)\n",
    "documents = text_splitter.split_text(all_text)\n",
    "print(f\"Now there are {len(documents)} documents\")"
   ]
  },
  {
   "cell_type": "code",
   "execution_count": 82,
   "metadata": {},
   "outputs": [],
   "source": [
    "embeddings = []\n",
    "for doc in documents:\n",
    "    embeddings.append(embeddings_client.embed_query(doc))"
   ]
  },
  {
   "cell_type": "markdown",
   "metadata": {},
   "source": [
    "generate random ids"
   ]
  },
  {
   "cell_type": "code",
   "execution_count": 83,
   "metadata": {},
   "outputs": [
    {
     "name": "stdout",
     "output_type": "stream",
     "text": [
      "['72276c6', 'aec5711', 'fe3315a', '8b16c17', '93bda80', '87363ad', 'b598ccb', '8979627', 'a44842d', '792a6ef', '9c8d09f', '9846e66', '3f9aa1f', '0cd27f0', '9ece720', '90b1ee4', 'e45e304', 'a8e685c', 'e0e8eb5', 'e0c2739', '7b79944', '7d92edf', '6f311db', 'b6288ed', 'ea37102', '2fd665e', '9fb6c26', 'c900522', 'fe66dc4', 'dd1ed67', '838ed98', 'e31bf93', '7e2d082', 'd26edb9', '0da398c', 'ebb4a25', '6e908f5', '1281ee6', 'f0ad0f3', 'ed3bc70', 'd1d524b', '690d863', '1a77af8', '6041c4f', '0ee9620', 'fec379b', '423404e', '9295fca', 'a695c2f', '9cef76c', '95a8028']\n"
     ]
    }
   ],
   "source": [
    "import uuid\n",
    "\n",
    "def generate_unique_ids(count=len(embeddings), length=7):\n",
    "    unique_ids = []\n",
    "    while len(unique_ids) < count:\n",
    "        new_id = str(uuid.uuid4()).replace('-', '')[:length]\n",
    "        if new_id not in unique_ids:\n",
    "            unique_ids.append(new_id)\n",
    "    return unique_ids\n",
    "\n",
    "ids = generate_unique_ids()\n",
    "print(ids)"
   ]
  },
  {
   "cell_type": "code",
   "execution_count": 85,
   "metadata": {},
   "outputs": [],
   "source": [
    "metadata = []\n",
    "\n",
    "for doc in documents:\n",
    "    metadata.append({'text': doc})\n"
   ]
  },
  {
   "cell_type": "markdown",
   "metadata": {},
   "source": [
    "ingest code into index "
   ]
  },
  {
   "cell_type": "code",
   "execution_count": 97,
   "metadata": {},
   "outputs": [
    {
     "data": {
      "text/plain": [
       "{'upserted_count': 51}"
      ]
     },
     "execution_count": 97,
     "metadata": {},
     "output_type": "execute_result"
    }
   ],
   "source": [
    "data = list(zip(ids, embeddings, metadata))\n",
    "index.upsert(vectors=data)"
   ]
  },
  {
   "cell_type": "markdown",
   "metadata": {},
   "source": [
    "### Audio files --> Speech2Text"
   ]
  },
  {
   "cell_type": "markdown",
   "metadata": {},
   "source": [
    "loading dummy audio .mp3 example"
   ]
  },
  {
   "cell_type": "code",
   "execution_count": 199,
   "metadata": {},
   "outputs": [
    {
     "name": "stderr",
     "output_type": "stream",
     "text": [
      "Some weights of the model checkpoint at facebook/wav2vec2-base-960h were not used when initializing Wav2Vec2ForCTC: ['wav2vec2.encoder.pos_conv_embed.conv.weight_g', 'wav2vec2.encoder.pos_conv_embed.conv.weight_v']\n",
      "- This IS expected if you are initializing Wav2Vec2ForCTC from the checkpoint of a model trained on another task or with another architecture (e.g. initializing a BertForSequenceClassification model from a BertForPreTraining model).\n",
      "- This IS NOT expected if you are initializing Wav2Vec2ForCTC from the checkpoint of a model that you expect to be exactly identical (initializing a BertForSequenceClassification model from a BertForSequenceClassification model).\n",
      "Some weights of Wav2Vec2ForCTC were not initialized from the model checkpoint at facebook/wav2vec2-base-960h and are newly initialized: ['wav2vec2.encoder.pos_conv_embed.conv.parametrizations.weight.original0', 'wav2vec2.encoder.pos_conv_embed.conv.parametrizations.weight.original1', 'wav2vec2.masked_spec_embed']\n",
      "You should probably TRAIN this model on a down-stream task to be able to use it for predictions and inference.\n"
     ]
    },
    {
     "name": "stdout",
     "output_type": "stream",
     "text": [
      "O WELCOME TO MY PODCAST DO LITTLE EXPERIMENTS HERE IAM GOING TO LET YOU THIS ENTO A FONG CONVERSATION WITH ME AND MY MOTHER SO I'M GOING TO DIL HER NOW AND YOU WILL HEAR WHAT I HAVE TO SAY BUT NOT HER DILING NOW RING REANG LITTLE MOTHER IAM DOING GOOD I AM RECORDING TO MARRIA FOR A PROJECT NO M O NO OSE TO MORROW Y YETS FOR A PODCAST I AM LIVE ON A PODCAST ERO NOW NO I AM  TALKING INTO MY MY CROPHONE AND ITS SCATTERING MY VOICE YOUN A THEY CAME HER YOU IMPRETTY MUCH ET IM A PRE EXCITED AS I GOT MY LAB AND LECTURE SCETUAL NEXT MONTH AND WENT BACK TO AFTERNOON CLASS AND I'LL SO TAT OF NICE PAIR OF HAD FALNS I GUESS THEY THEY JUST THEY GAVE HIM TO US WITH THE BOOKS I GUESS SO IM JUST TOO SOUND FOUNDATIONS AND SOUNDS YET I NO  HOP SO YE A THIS CONTO TO MY EXPERIMENT\n"
     ]
    }
   ],
   "source": [
    "from transformers import Wav2Vec2Processor, Wav2Vec2ForCTC\n",
    "import torch\n",
    "import librosa\n",
    "import soundfile\n",
    "\n",
    "model = Wav2Vec2ForCTC.from_pretrained(\"facebook/wav2vec2-base-960h\")\n",
    "processor = Wav2Vec2Processor.from_pretrained(\"facebook/wav2vec2-base-960h\")\n",
    "\n",
    "audio_file = \"mypodcast.mp3\"\n",
    "audio_array, sampling_rate = librosa.load(audio_file, sr=16000)  \n",
    "\n",
    "input_values = processor(audio_array, sampling_rate=sampling_rate, return_tensors=\"pt\").input_values\n",
    "\n",
    "with torch.no_grad():\n",
    "    logits = model(input_values).logits\n",
    "\n",
    "predicted_ids = torch.argmax(logits, dim=-1)\n",
    "\n",
    "transcription = processor.batch_decode(predicted_ids)[0]\n",
    "print(transcription)\n"
   ]
  },
  {
   "cell_type": "code",
   "execution_count": 201,
   "metadata": {},
   "outputs": [
    {
     "data": {
      "text/plain": [
       "\"O WELCOME TO MY PODCAST DO LITTLE EXPERIMENTS HERE IAM GOING TO LET YOU THIS ENTO A FONG CONVERSATION WITH ME AND MY MOTHER SO I'M GOING TO DIL HER NOW AND YOU WILL HEAR WHAT I HAVE TO SAY BUT NOT HER DILING NOW RING REANG LITTLE MOTHER IAM DOING GOOD I AM RECORDING TO MARRIA FOR A PROJECT NO M O NO OSE TO MORROW Y YETS FOR A PODCAST I AM LIVE ON A PODCAST ERO NOW NO I AM  TALKING INTO MY MY CROPHONE AND ITS SCATTERING MY VOICE YOUN A THEY CAME HER YOU IMPRETTY MUCH ET IM A PRE EXCITED AS I GOT MY LAB AND LECTURE SCETUAL NEXT MONTH AND WENT BACK TO AFTERNOON CLASS AND I'LL SO TAT OF NICE PAIR OF HAD FALNS I GUESS THEY THEY JUST THEY GAVE HIM TO US WITH THE BOOKS I GUESS SO IM JUST TOO SOUND FOUNDATIONS AND SOUNDS YET I NO  HOP SO YE A THIS CONTO TO MY EXPERIMENT\""
      ]
     },
     "execution_count": 201,
     "metadata": {},
     "output_type": "execute_result"
    }
   ],
   "source": [
    "transcription"
   ]
  },
  {
   "cell_type": "markdown",
   "metadata": {},
   "source": [
    "# Generative AI Assistant"
   ]
  },
  {
   "cell_type": "markdown",
   "metadata": {},
   "source": [
    "## Semantic search in pinecone"
   ]
  },
  {
   "cell_type": "code",
   "execution_count": 9,
   "metadata": {},
   "outputs": [
    {
     "data": {
      "text/plain": [
       "{'matches': [{'id': '9fb6c26',\n",
       "              'metadata': {'text': 'or check, which will take money directly '\n",
       "                                   'from your account, to pay for everything '\n",
       "                                   'from groceries to gas to bills. You can '\n",
       "                                   'also get cash from an ATM or branch using '\n",
       "                                   'your debit card and PIN, a unique password '\n",
       "                                   'you choose to protect your account.'},\n",
       "              'score': 0.883979261,\n",
       "              'values': []},\n",
       "             {'id': 'd26edb9',\n",
       "              'metadata': {'text': 'With a debit card, you can pay for '\n",
       "                                   'everyday expenses with just a swipe (and '\n",
       "                                   'usually your PIN). The money will come '\n",
       "                                   'straight from your checking account so '\n",
       "                                   'there’s no need to carry cash if you '\n",
       "                                   'prefer not to. Plus, if your debit card is '\n",
       "                                   'lost or stolen, you may not be responsible '\n",
       "                                   'for unauthorized'},\n",
       "              'score': 0.871981263,\n",
       "              'values': []},\n",
       "             {'id': 'ebb4a25',\n",
       "              'metadata': {'text': 'Credit card'},\n",
       "              'score': 0.846373618,\n",
       "              'values': []},\n",
       "             {'id': 'd1d524b',\n",
       "              'metadata': {'text': 'to use your bank’s ATM to access your '\n",
       "                                   'cash, you might have to pay a fee to use '\n",
       "                                   'others. Many credit cards allow cash '\n",
       "                                   'withdrawals as well, but this “cash '\n",
       "                                   'advance” can come with a hefty fee, so be '\n",
       "                                   'sure to find out beforehand.2'},\n",
       "              'score': 0.833164692,\n",
       "              'values': []},\n",
       "             {'id': '7e2d082',\n",
       "              'metadata': {'text': 'The longer you save, the greater the '\n",
       "                                   'return. You can always decide to withdraw '\n",
       "                                   'your money early. However, there’s a '\n",
       "                                   'penalty for withdrawal before the end of '\n",
       "                                   'your CD term.\\n'\n",
       "                                   'Debit card'},\n",
       "              'score': 0.823090851,\n",
       "              'values': []}],\n",
       " 'namespace': '',\n",
       " 'usage': {'read_units': 6}}"
      ]
     },
     "execution_count": 9,
     "metadata": {},
     "output_type": "execute_result"
    }
   ],
   "source": [
    "query = \"what can I use a debit card for?\"\n",
    "xq = embeddings_client.embed_query(query)\n",
    "xc = index.query(vector=xq, top_k=5, include_metadata=True)\n",
    "xc"
   ]
  },
  {
   "cell_type": "code",
   "execution_count": 100,
   "metadata": {},
   "outputs": [
    {
     "name": "stdout",
     "output_type": "stream",
     "text": [
      "9fb6c26 0.883182943 {'text': 'or check, which will take money directly from your account, to pay for everything from groceries to gas to bills. You can also get cash from an ATM or branch using your debit card and PIN, a unique password you choose to protect your account.'}\n",
      "d26edb9 0.871337235 {'text': 'With a debit card, you can pay for everyday expenses with just a swipe (and usually your PIN). The money will come straight from your checking account so there’s no need to carry cash if you prefer not to. Plus, if your debit card is lost or stolen, you may not be responsible for unauthorized'}\n",
      "ebb4a25 0.846149862 {'text': 'Credit card'}\n",
      "d1d524b 0.832676 {'text': 'to use your bank’s ATM to access your cash, you might have to pay a fee to use others. Many credit cards allow cash withdrawals as well, but this “cash advance” can come with a hefty fee, so be sure to find out beforehand.2'}\n",
      "7e2d082 0.822569847 {'text': 'The longer you save, the greater the return. You can always decide to withdraw your money early. However, there’s a penalty for withdrawal before the end of your CD term.\\nDebit card'}\n"
     ]
    }
   ],
   "source": [
    "for match in xc.matches:\n",
    "    print(match.id, match.score, match.metadata) "
   ]
  },
  {
   "cell_type": "markdown",
   "metadata": {},
   "source": [
    "## Langchain app"
   ]
  },
  {
   "cell_type": "code",
   "execution_count": 10,
   "metadata": {},
   "outputs": [],
   "source": [
    "from langchain.vectorstores import Pinecone\n",
    "\n",
    "text_field = \"text\"\n",
    "index = pc.Index(index_name)\n",
    "\n",
    "vectorstore = Pinecone(\n",
    "    index, \n",
    "    embeddings_client.embed_query, \n",
    "    text_field\n",
    ")"
   ]
  },
  {
   "cell_type": "code",
   "execution_count": 11,
   "metadata": {},
   "outputs": [],
   "source": [
    "llm = AzureChatOpenAI(\n",
    "    deployment_name= config.get('Settings', 'deployment_name'),\n",
    "    openai_api_version=  config.get('Settings', 'api_version'),\n",
    "    openai_api_key= config.get('Settings', 'api_key'),\n",
    "    openai_api_base = config.get('Settings', 'api_endpoint')\n",
    ")\n",
    "\n",
    "conversational_memory = ConversationBufferWindowMemory(\n",
    "    memory_key='chat_history',\n",
    "    k=5,\n",
    "    return_messages=True\n",
    ")\n",
    "\n",
    "qa = RetrievalQA.from_chain_type(\n",
    "    llm=llm,\n",
    "    chain_type=\"stuff\",\n",
    "    retriever = vectorstore.as_retriever(),\n",
    "    verbose=True\n",
    ")"
   ]
  },
  {
   "cell_type": "code",
   "execution_count": 227,
   "metadata": {},
   "outputs": [],
   "source": [
    "def call_an_assistant(input=\"\"):\n",
    "    return \"It seems you need further support. Please wait until we assign you an assistant\""
   ]
  },
  {
   "cell_type": "code",
   "execution_count": 228,
   "metadata": {},
   "outputs": [],
   "source": [
    "def irrelevant_questions(input=\"\"):\n",
    "    return \"Sorry, I am an assistant for Bank101. Please let me now if I can support you with questions relevant to this bank\""
   ]
  },
  {
   "cell_type": "code",
   "execution_count": 229,
   "metadata": {},
   "outputs": [],
   "source": [
    "\n",
    "tools = [\n",
    "    Tool(\n",
    "        name='Knowledge Base',\n",
    "        func=qa.run,\n",
    "        description=(\n",
    "            'use this tool to empower banking 101 sales. You are profiecint in recommend the best products for users and addressing the right questions'\n",
    "        )\n",
    "    ),\n",
    "    \n",
    "     Tool(\n",
    "        name='Call an assistant',\n",
    "        func=call_an_assistant, \n",
    "        description=(\n",
    "            'use this if the user claims for assistance'\n",
    "        )\n",
    "    ),\n",
    "     Tool(\n",
    "        name='Handle irrelevant questions',\n",
    "        func=irrelevant_questions, \n",
    "        description=(\n",
    "            'use this if the user asks something is not related to bank'\n",
    "        )\n",
    "    )\n",
    "]\n"
   ]
  },
  {
   "cell_type": "code",
   "execution_count": 230,
   "metadata": {},
   "outputs": [
    {
     "name": "stdout",
     "output_type": "stream",
     "text": [
      "\n",
      "\n",
      "\u001b[1m> Entering new RetrievalQA chain...\u001b[0m\n",
      "\n",
      "\u001b[1m> Finished chain.\u001b[0m\n",
      "You can use a debit card to pay for a variety of things, such as groceries, gas, bills, and other everyday expenses. You can also use your debit card to withdraw cash from an ATM or a bank branch, as long as you have your PIN. The funds for these transactions will be taken directly from your checking account.\n"
     ]
    }
   ],
   "source": [
    "print(qa.run(\"what can I use a debit card for?\"))"
   ]
  },
  {
   "cell_type": "code",
   "execution_count": 231,
   "metadata": {},
   "outputs": [],
   "source": [
    "from langchain.agents import initialize_agent\n",
    "\n",
    "agent = initialize_agent(\n",
    "    agent='chat-conversational-react-description',\n",
    "    tools=tools,\n",
    "    llm=llm,\n",
    "    verbose=True,\n",
    "    max_iterations=3,\n",
    "    early_stopping_method='generate',\n",
    "    memory=conversational_memory\n",
    ")"
   ]
  },
  {
   "cell_type": "code",
   "execution_count": 232,
   "metadata": {},
   "outputs": [
    {
     "name": "stdout",
     "output_type": "stream",
     "text": [
      "Assistant is a large language model trained by OpenAI.\n",
      "\n",
      "Assistant is designed to be able to assist with a wide range of tasks, from answering simple questions to providing in-depth explanations and discussions on a wide range of topics. As a language model, Assistant is able to generate human-like text based on the input it receives, allowing it to engage in natural-sounding conversations and provide responses that are coherent and relevant to the topic at hand.\n",
      "\n",
      "Assistant is constantly learning and improving, and its capabilities are constantly evolving. It is able to process and understand large amounts of text, and can use this knowledge to provide accurate and informative responses to a wide range of questions. Additionally, Assistant is able to generate its own text based on the input it receives, allowing it to engage in discussions and provide explanations and descriptions on a wide range of topics.\n",
      "\n",
      "Overall, Assistant is a powerful system that can help with a wide range of tasks and provide valuable insights and information on a wide range of topics. Whether you need help with a specific question or just want to have a conversation about a particular topic, Assistant is here to assist.\n"
     ]
    }
   ],
   "source": [
    "print(agent.agent.llm_chain.prompt.messages[0].prompt.template)"
   ]
  },
  {
   "cell_type": "code",
   "execution_count": 234,
   "metadata": {},
   "outputs": [],
   "source": [
    "agent.agent.llm_chain.prompt.messages[0].prompt.template=\"\"\"\n",
    "\n",
    "You are an AI bank sales assistant.\n",
    "\n",
    "Your task is to empower sales bank by recommending products.\n",
    "\n",
    "You have access three tools \"Knowledge Base\", \"call an assistant\" and \"'Handle irrelevant questions'.\n",
    "\n",
    "If one of these tools cannot be executed, answer \"I don't know\"\n",
    "\n",
    "\"\"\""
   ]
  },
  {
   "cell_type": "markdown",
   "metadata": {},
   "source": [
    "### Tests"
   ]
  },
  {
   "cell_type": "code",
   "execution_count": 235,
   "metadata": {},
   "outputs": [
    {
     "name": "stdout",
     "output_type": "stream",
     "text": [
      "\n",
      "\n",
      "\u001b[1m> Entering new AgentExecutor chain...\u001b[0m\n",
      "\u001b[32;1m\u001b[1;3m```json\n",
      "{\n",
      "    \"action\": \"Handle irrelevant questions\",\n",
      "    \"action_input\": \"Who the new king of Denmark?\"\n",
      "}\n",
      "```\u001b[0m\n",
      "Observation: \u001b[38;5;200m\u001b[1;3mSorry, I am an assistant for Bank101. Please let me now if I can support you with questions relevant to this bank\u001b[0m\n",
      "Thought:\u001b[32;1m\u001b[1;3m```json\n",
      "{\n",
      "    \"action\": \"Final Answer\",\n",
      "    \"action_input\": \"I'm here to assist you with banking-related questions. If you have any inquiries about our products or services, please feel free to ask!\"\n",
      "}\n",
      "```\u001b[0m\n",
      "\n",
      "\u001b[1m> Finished chain.\u001b[0m\n"
     ]
    },
    {
     "data": {
      "text/plain": [
       "{'input': 'Who the new king of Denmark?',\n",
       " 'chat_history': [],\n",
       " 'output': \"I'm here to assist you with banking-related questions. If you have any inquiries about our products or services, please feel free to ask!\"}"
      ]
     },
     "execution_count": 235,
     "metadata": {},
     "output_type": "execute_result"
    }
   ],
   "source": [
    "#Expected output: Answer that this is a genai bank sales assistant not able to answer that\n",
    "#Succeed\n",
    "query = \"Who the new king of Denmark?\"\n",
    "agent(query)"
   ]
  },
  {
   "cell_type": "code",
   "execution_count": 236,
   "metadata": {},
   "outputs": [
    {
     "name": "stdout",
     "output_type": "stream",
     "text": [
      "\n",
      "\n",
      "\u001b[1m> Entering new AgentExecutor chain...\u001b[0m\n",
      "\u001b[32;1m\u001b[1;3m```json\n",
      "{\n",
      "    \"action\": \"Knowledge Base\",\n",
      "    \"action_input\": \"Which bank accounts are there?\"\n",
      "}\n",
      "```\u001b[0m\n",
      "\n",
      "\u001b[1m> Entering new RetrievalQA chain...\u001b[0m\n",
      "\n",
      "\u001b[1m> Finished chain.\u001b[0m\n",
      "\n",
      "Observation: \u001b[36;1m\u001b[1;3mBank accounts can come in various forms, each designed for different needs and purposes. Here are some common types of bank accounts that are generally available at most consumer or retail banks:\n",
      "\n",
      "1. Checking Account: This is a transactional account primarily used for daily expenses, bill payments, and routine financial transactions. It often comes with a debit card and the ability to write checks.\n",
      "\n",
      "2. Savings Account: A savings account is intended for storing money and accumulating interest over time. It typically offers a higher interest rate than checking accounts but might have restrictions on the number of transactions you can make.\n",
      "\n",
      "3. Money Market Account: This account is a hybrid between a checking and savings account, usually offering higher interest rates than a savings account, but with limited transaction capabilities. It may come with check-writing privileges and a debit card.\n",
      "\n",
      "4. Certificate of Deposit (CD): A CD is a time-bound deposit that offers a fixed interest rate for a specified term, which can range from a few months to several years. Withdrawing money before the term ends usually incurs a penalty.\n",
      "\n",
      "5. Individual Retirement Accounts (IRA): These are savings accounts with tax advantages that are designed to help individuals save for retirement. There are different types of IRAs, such as Traditional and Roth, each with its own tax implications and eligibility requirements.\n",
      "\n",
      "6. Joint Account: This is an account shared by two or more individuals, usually offering equal access to funds and the ability to conduct transactions.\n",
      "\n",
      "7. Business or Corporate Account: Specifically designed for business transactions, these accounts help business owners manage their company's finances separately from their personal funds.\n",
      "\n",
      "8. Student Account: Often offered with lower fees and tailored services, student accounts are designed for individuals who are enrolled in educational institutions.\n",
      "\n",
      "9. Trust Account: An account managed by one person for the benefit of another. It is established as part of a trust arrangement and is governed by the terms of the trust agreement.\n",
      "\n",
      "These are just a few examples, and there may be other specialized accounts offered by financial institutions to meet specific needs, like high-yield savings accounts or sector-specific business accounts. It's important to compare different accounts and their features, such as fees, interest rates, and services offered, before choosing one that's right for you.\u001b[0m\n",
      "Thought:\u001b[32;1m\u001b[1;3m```json\n",
      "{\n",
      "    \"action\": \"Final Answer\",\n",
      "    \"action_input\": \"Bank accounts come in various forms, such as Checking Accounts for daily expenses, Savings Accounts for storing money, Money Market Accounts which are a hybrid of checking and savings, Certificates of Deposit (CDs) for fixed-term savings, Individual Retirement Accounts (IRAs) for retirement savings, Joint Accounts for shared access by multiple individuals, Business or Corporate Accounts for managing business finances, Student Accounts with features tailored to individuals in education, and Trust Accounts managed for the benefit of another person. It's important to compare their features like fees, interest rates, and services offered before making a decision.\"\n",
      "}\n",
      "```\u001b[0m\n",
      "\n",
      "\u001b[1m> Finished chain.\u001b[0m\n"
     ]
    },
    {
     "data": {
      "text/plain": [
       "{'input': 'Which bank accounts are there?',\n",
       " 'chat_history': [HumanMessage(content='Who the new king of Denmark?'),\n",
       "  AIMessage(content=\"I'm here to assist you with banking-related questions. If you have any inquiries about our products or services, please feel free to ask!\")],\n",
       " 'output': \"Bank accounts come in various forms, such as Checking Accounts for daily expenses, Savings Accounts for storing money, Money Market Accounts which are a hybrid of checking and savings, Certificates of Deposit (CDs) for fixed-term savings, Individual Retirement Accounts (IRAs) for retirement savings, Joint Accounts for shared access by multiple individuals, Business or Corporate Accounts for managing business finances, Student Accounts with features tailored to individuals in education, and Trust Accounts managed for the benefit of another person. It's important to compare their features like fees, interest rates, and services offered before making a decision.\"}"
      ]
     },
     "execution_count": 236,
     "metadata": {},
     "output_type": "execute_result"
    }
   ],
   "source": [
    "#Expected output: RAG and recommend different accounts\n",
    "#Succeed\n",
    "query = \"Which bank accounts are there?\"\n",
    "agent(query)"
   ]
  },
  {
   "cell_type": "code",
   "execution_count": 237,
   "metadata": {},
   "outputs": [
    {
     "name": "stdout",
     "output_type": "stream",
     "text": [
      "\n",
      "\n",
      "\u001b[1m> Entering new AgentExecutor chain...\u001b[0m\n",
      "\u001b[32;1m\u001b[1;3m```json\n",
      "{\n",
      "    \"action\": \"Knowledge Base\",\n",
      "    \"action_input\": \"day-to-day expenses account recommendation\"\n",
      "}\n",
      "```\u001b[0m\n",
      "\n",
      "\u001b[1m> Entering new RetrievalQA chain...\u001b[0m\n",
      "\n",
      "\u001b[1m> Finished chain.\u001b[0m\n",
      "\n",
      "Observation: \u001b[36;1m\u001b[1;3mFor managing day-to-day expenses, a checking account is generally recommended. Checking accounts are designed for frequent transactions, such as depositing paychecks, withdrawing cash, making purchases with a debit card, and paying bills. They typically offer unlimited transactions and may come with a debit card and checkbook, which can be very convenient for daily use.\n",
      "\n",
      "Some key benefits of using a checking account for everyday expenses include:\n",
      "\n",
      "1. Easy Access: Checking accounts often come with ATMs and online banking options, providing round-the-clock access to your funds.\n",
      "2. Security: It's safer to carry a debit card than to carry a large amount of cash.\n",
      "3. Expense Tracking: You can monitor your income and expenses easily with online banking and monthly statements.\n",
      "4. Bill Payments: Many checking accounts offer online bill pay services, which can automate and simplify the process of paying your bills.\n",
      "5. Overdraft Protection: Some accounts offer overdraft protection, which can help in case you accidentally spend more than you have in your account.\n",
      "\n",
      "While savings accounts are great for building up funds and earning interest, they typically have limits on the number of transactions you can make each month and are not as convenient for frequent, daily use. Therefore, it's common for individuals to use both types of accounts in tandem—checking accounts for everyday spending and savings accounts for growing funds and saving for future goals.\u001b[0m\n",
      "Thought:\u001b[32;1m\u001b[1;3m```json\n",
      "{\n",
      "    \"action\": \"Final Answer\",\n",
      "    \"action_input\": \"For your day-to-day expenses, a checking account is generally the best option. It offers easy access to your funds, the ability to conduct unlimited transactions, and often comes with a debit card and checkbook for convenience. It also provides security over carrying cash, allows for easy tracking of your income and expenses, and many checking accounts offer online bill pay services and overdraft protection.\"\n",
      "}\n",
      "```\u001b[0m\n",
      "\n",
      "\u001b[1m> Finished chain.\u001b[0m\n"
     ]
    },
    {
     "data": {
      "text/plain": [
       "{'input': 'Which one is better for my day-to-day expenses?',\n",
       " 'chat_history': [HumanMessage(content='Who the new king of Denmark?'),\n",
       "  AIMessage(content=\"I'm here to assist you with banking-related questions. If you have any inquiries about our products or services, please feel free to ask!\"),\n",
       "  HumanMessage(content='Which bank accounts are there?'),\n",
       "  AIMessage(content=\"Bank accounts come in various forms, such as Checking Accounts for daily expenses, Savings Accounts for storing money, Money Market Accounts which are a hybrid of checking and savings, Certificates of Deposit (CDs) for fixed-term savings, Individual Retirement Accounts (IRAs) for retirement savings, Joint Accounts for shared access by multiple individuals, Business or Corporate Accounts for managing business finances, Student Accounts with features tailored to individuals in education, and Trust Accounts managed for the benefit of another person. It's important to compare their features like fees, interest rates, and services offered before making a decision.\")],\n",
       " 'output': 'For your day-to-day expenses, a checking account is generally the best option. It offers easy access to your funds, the ability to conduct unlimited transactions, and often comes with a debit card and checkbook for convenience. It also provides security over carrying cash, allows for easy tracking of your income and expenses, and many checking accounts offer online bill pay services and overdraft protection.'}"
      ]
     },
     "execution_count": 237,
     "metadata": {},
     "output_type": "execute_result"
    }
   ],
   "source": [
    "#Expected output: RAG and recommend \"checkign account\"\n",
    "#Succeed\n",
    "query = \"Which one is better for my day-to-day expenses?\"\n",
    "agent(query)"
   ]
  },
  {
   "cell_type": "code",
   "execution_count": 238,
   "metadata": {},
   "outputs": [
    {
     "name": "stdout",
     "output_type": "stream",
     "text": [
      "\n",
      "\n",
      "\u001b[1m> Entering new AgentExecutor chain...\u001b[0m\n",
      "\u001b[32;1m\u001b[1;3m```json\n",
      "{\n",
      "    \"action\": \"Call an assistant\",\n",
      "    \"action_input\": \"User requesting to talk with an agent\"\n",
      "}\n",
      "```\u001b[0m\n",
      "Observation: \u001b[33;1m\u001b[1;3mIt seems you need further support. Please wait until we assign you an assistant\u001b[0m\n",
      "Thought:\u001b[32;1m\u001b[1;3m```json\n",
      "{\n",
      "    \"action\": \"Final Answer\",\n",
      "    \"action_input\": \"An assistant will be with you shortly to help with your request.\"\n",
      "}\n",
      "```\u001b[0m\n",
      "\n",
      "\u001b[1m> Finished chain.\u001b[0m\n"
     ]
    },
    {
     "data": {
      "text/plain": [
       "{'input': 'Oh taht sounds good! Can I talk with an agent?',\n",
       " 'chat_history': [HumanMessage(content='Who the new king of Denmark?'),\n",
       "  AIMessage(content=\"I'm here to assist you with banking-related questions. If you have any inquiries about our products or services, please feel free to ask!\"),\n",
       "  HumanMessage(content='Which bank accounts are there?'),\n",
       "  AIMessage(content=\"Bank accounts come in various forms, such as Checking Accounts for daily expenses, Savings Accounts for storing money, Money Market Accounts which are a hybrid of checking and savings, Certificates of Deposit (CDs) for fixed-term savings, Individual Retirement Accounts (IRAs) for retirement savings, Joint Accounts for shared access by multiple individuals, Business or Corporate Accounts for managing business finances, Student Accounts with features tailored to individuals in education, and Trust Accounts managed for the benefit of another person. It's important to compare their features like fees, interest rates, and services offered before making a decision.\"),\n",
       "  HumanMessage(content='Which one is better for my day-to-day expenses?'),\n",
       "  AIMessage(content='For your day-to-day expenses, a checking account is generally the best option. It offers easy access to your funds, the ability to conduct unlimited transactions, and often comes with a debit card and checkbook for convenience. It also provides security over carrying cash, allows for easy tracking of your income and expenses, and many checking accounts offer online bill pay services and overdraft protection.')],\n",
       " 'output': 'An assistant will be with you shortly to help with your request.'}"
      ]
     },
     "execution_count": 238,
     "metadata": {},
     "output_type": "execute_result"
    }
   ],
   "source": [
    "#Expected output: call an agent\n",
    "#Succeed\n",
    "query = \"Oh taht sounds good! Can I talk with an agent?\"\n",
    "agent(query)"
   ]
  }
 ],
 "metadata": {
  "kernelspec": {
   "display_name": "Python 3 (ipykernel)",
   "language": "python",
   "name": "python3"
  },
  "language_info": {
   "codemirror_mode": {
    "name": "ipython",
    "version": 3
   },
   "file_extension": ".py",
   "mimetype": "text/x-python",
   "name": "python",
   "nbconvert_exporter": "python",
   "pygments_lexer": "ipython3",
   "version": "3.10.11"
  }
 },
 "nbformat": 4,
 "nbformat_minor": 4
}
